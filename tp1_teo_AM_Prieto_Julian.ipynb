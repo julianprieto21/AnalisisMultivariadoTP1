{
  "cells": [
    {
      "cell_type": "markdown",
      "metadata": {
        "id": "6afhCgRgtV6h"
      },
      "source": [
        "# **Trabajo Práctico Nro. 1**\n",
        "## **Analisis Multivariado**\n",
        "### Prieto Julián &nbsp;&nbsp;&nbsp;&nbsp;&nbsp;45065709"
      ]
    },
    {
      "cell_type": "markdown",
      "metadata": {
        "id": "EDA7jfPctV6m"
      },
      "source": [
        "# **1.a**"
      ]
    },
    {
      "cell_type": "markdown",
      "metadata": {
        "id": "gkSY1KTAtV6m"
      },
      "source": [
        "Calcular gradiente y hessiano de:\n",
        "\n",
        "$$ \n",
        "J(\\theta)=-\\frac{1}{m} \\sum_{i*1}^{m} \\left[ y^{(i)} \\log(h_\\theta(x_i)) + (1 - y^{(i)}) \\log(1 - h_\\theta(x_i)) \\right] \n",
        "$$\n",
        "<br>\n",
        "\n",
        "Teniendo en cuenta que $h_\\theta(x_i)=g(\\theta^Tx_i) $,"
      ]
    },
    {
      "cell_type": "markdown",
      "metadata": {
        "id": "LNfzVYpEtV6n"
      },
      "source": [
        "### **Gradiente:**\n",
        "$$\n",
        "\\nabla J(\\theta)=-\\frac{1}{m} \\sum_{i*1}^{m} \\frac{y^{(i)}}{g(\\theta^Tx_i)} g'(\\theta^Tx_i) - \\frac{1-y^{(i)}}{1-g(\\theta^Tx_i)} g'(\\theta^Tx_i)\n",
        "$$\n",
        "<br>\n",
        "\n",
        "$$\n",
        "\\nabla J(\\theta)=-\\frac{1}{m} \\sum_{i*1}^{m} \\left[ \\frac{y^{(i)}}{g(\\theta^Tx_i)} - \\frac{1-y^{(i)}}{1-g(\\theta^Tx_i)} \\right] g'(\\theta^Tx_i)\n",
        "$$\n",
        "<br>\n",
        "\n",
        "Ya que $ \\frac{\\partial}{\\partial\\theta} g(\\theta^Tx_i)=g(\\theta^Tx_i) (1-g(\\theta^Tx_i)) x_i$,\n",
        "<br>\n",
        "<br>\n",
        "\n",
        "$$\n",
        "\\nabla J(\\theta)=-\\frac{1}{m} \\sum_{i*1}^{m} \\left[ \\frac{y^{(i)}}{g(\\theta^Tx_i)} - \\frac{1-y^{(i)}}{1-g(\\theta^Tx_i)} \\right] g(\\theta^Tx_i) (1-g(\\theta^Tx_i)) x_i\n",
        "$$\n",
        "<br>\n",
        "\n",
        "$$\n",
        "\\nabla J(\\theta)=-\\frac{1}{m} \\sum_{i*1}^{m} \\left[ \\frac{y^{(i)} g(\\theta^Tx_i) (1-g(\\theta^Tx_i))}{g(\\theta^Tx_i)} - \\frac{(1-y^{(i)}) g(\\theta^Tx_i) (1-g(\\theta^Tx_i))}{1-g(\\theta^Tx_i)} \\right] x_i\n",
        "$$\n",
        "<br>\n",
        "\n",
        "$$\n",
        "\\nabla J(\\theta)=-\\frac{1}{m} \\sum_{i*1}^{m} \\left[ y^{(i)}(1 - g(\\theta^Tx_i)) - (1-y^{(i)})g(\\theta^Tx_i) \\right] x_i\n",
        "$$\n",
        "<br>\n",
        "\n",
        "$$\n",
        "\\nabla J(\\theta)=-\\frac{1}{m}\\sum_{i*1}^{m}\\left[y^{(i)} - y^{(i)}g(\\theta^Tx_i) - g(\\theta^Tx_i) + y^{(i)} g(\\theta^Tx_i)\\right]x_i^{(i)}\n",
        "$$\n",
        "<br>\n",
        "\n",
        "$$\n",
        "\\nabla J(\\theta)=-\\frac{1}{m}\\sum_{i*1}^{m}\\left[y^{(i)} - g(\\theta^Tx_i)\\right]x_i\n",
        "$$\n",
        "<br>\n",
        "\n",
        "$$\n",
        "\\boxed{\\nabla J(\\theta)=\\frac{1}{m}\\sum_{i*1}^{m}\\left[g(\\theta^Tx_i) - y^{(i)} \\right]x_i}\n",
        "$$\n"
      ]
    },
    {
      "cell_type": "markdown",
      "metadata": {
        "id": "RNeJZFE2tV6o"
      },
      "source": [
        "### **Hessiano:**\n",
        "$$\n",
        "\\nabla^2J(\\theta)=\\frac{1}{m}\\sum_{i*1}^{m}\\left[ g(\\theta^Tx_i) \\right]'x_i\n",
        "$$\n",
        "<br>\n",
        "\n",
        "$$\n",
        "\\boxed{\\nabla^2J(\\theta)=\\frac{1}{m}\\sum_{i*1}^{m}g(\\theta^Tx_i) (1-g(\\theta^Tx_i)) x_i^T x_i}\n",
        "$$"
      ]
    },
    {
      "cell_type": "markdown",
      "metadata": {
        "id": "3XLSj9cRtV6o"
      },
      "source": [
        "### Es semi-definido positivo?\n",
        "#### TERMINAR"
      ]
    },
    {
      "cell_type": "markdown",
      "metadata": {
        "id": "r81ZjwLbtV6p"
      },
      "source": [
        "# **1.c**"
      ]
    },
    {
      "cell_type": "markdown",
      "metadata": {
        "id": "GxBPasZjtV6p"
      },
      "source": [
        "\n",
        "Mostrar que\n",
        "$$\n",
        "p(y = 1|x; \\phi, \\mu_0, \\mu_1, \\Sigma) = \\frac{1}{1 + \\exp\\left(-(\\theta^T x + \\theta_0)\\right)}\n",
        "$$\n",
        "<br>\n",
        "\n",
        "$\\text{donde } \\theta \\in \\mathbb{R}^n \\text{ y }\\theta_0 \\in \\mathbb{R} \\text{ son funciones de } \\phi, \\mu_0, \\mu_1 \\text{ y } \\Sigma. $"
      ]
    },
    {
      "cell_type": "markdown",
      "metadata": {
        "id": "4z1GFShptV6r"
      },
      "source": [
        "$$\n",
        "p(y = 1|x; \\phi, \\mu_0, \\mu_1, \\Sigma) = \\frac{p(x|y=1)\\cdot p(y=1)}{p(x)}\n",
        "$$\n",
        "<br>\n",
        "\n",
        "$$\n",
        "p(y = 1|x; \\phi, \\mu_0, \\mu_1, \\Sigma) = \\frac{p(x|y=1)\\cdot p(y=1)}{p(x|y=1)\\cdot p(y=1)\\cdot p(x|y=0)\\cdot p(y=0)}\n",
        "$$\n",
        "<br>\n",
        "\n",
        "$\\text{diviendo numerador y denominador por }p(x|y=1)\\cdot p(y=1)$,\n",
        "<br>\n",
        "<br>\n",
        "\n",
        "$$\n",
        "p(y = 1|x; \\phi, \\mu_0, \\mu_1, \\Sigma) = \\frac{1}{1+ \\frac{p(x|y=0)\\cdot p(y=0)}{p(x|y=1)\\cdot p(y=1)}}\n",
        "$$\n",
        "<br>\n",
        "\n",
        "$\\text{reemplazando por funcion de probabilidad,}$\n",
        "<br>\n",
        "<br>\n",
        "\n",
        "\n",
        "$$\n",
        "p(y = 1|x; \\phi, \\mu_0, \\mu_1, \\Sigma) = \\frac{1}{1+ \\frac{\\frac{1}{{(2\\pi)^{\\frac{n}{2}}|\\Sigma|^{\\frac{1}{2}}}} \\exp \\left( -\\frac{1}{2} (x - \\mu_0)^T\\Sigma^{-1}(x - \\mu_0) \\right)\\cdot (1-\\phi)}{\\frac{1}{{(2\\pi)^{\\frac{n}{2}}|\\Sigma|^{\\frac{1}{2}}}} \\exp \\left( -\\frac{1}{2} (x - \\mu_1)^T\\Sigma^{-1}(x - \\mu_1) \\right)\\cdot \\phi}}\n",
        "$$\n",
        "<br>\n",
        "\n",
        "$\\text{por propiedad }\\frac{a^n}{a^m}=a^{n-m}$,$\\text{ y cancelando termino constante,}$\n",
        "<br>\n",
        "<br>\n",
        "\n",
        "$$\n",
        "= \\frac{1}{1+ \\exp \\left( -\\frac{1}{2} (x - \\mu_0)^T\\Sigma^{-1}(x - \\mu_0) +\\frac{1}{2} (x - \\mu_1)^T\\Sigma^{-1}(x - \\mu_1) \\right)\\frac{(1-\\phi)}{\\phi}}\n",
        "$$\n",
        "<br>\n",
        "\n",
        "$$\n",
        "= \\frac{1}{1+ \\exp \\left( -\\frac{1}{2} (x - \\mu_0)^T\\Sigma^{-1}(x - \\mu_0) +\\frac{1}{2} (x - \\mu_1)^T\\Sigma^{-1}(x - \\mu_1) + \\ln{\\frac{(1-\\phi)}{\\phi}}\\right)}\n",
        "$$\n",
        "<br>\n",
        "\n",
        "$\\text{aplicando distributiva}$,\n",
        "<br>\n",
        "\n",
        "$$\n",
        "= \\frac{1}{1+ \\exp \\left( -\\frac{1}{2} (x^T\\Sigma^{-1}-\\mu_0^T\\Sigma^{-1})(x - \\mu_0) +\\frac{1}{2} (x^T\\Sigma^{-1}-\\mu_1^T\\Sigma^{-1})(x - \\mu_1) + \\ln{\\frac{(1-\\phi)}{\\phi}}\\right)}\n",
        "$$\n",
        "<br>\n",
        "\n",
        "$$\n",
        "= \\frac{1}{1+ \\exp \\left( -\\frac{1}{2} (x^T\\Sigma^{-1}x-x^T\\Sigma^{-1}\\mu_0-\\mu_0^T\\Sigma^{-1}x+\\mu_0^T\\Sigma^{-1}\\mu_0) +\\frac{1}{2} (x^T\\Sigma^{-1}x-x^T\\Sigma^{-1}\\mu_1-\\mu_1^T\\Sigma^{-1}x+\\mu_1^T\\Sigma^{-1}\\mu_1) + \\ln{\\frac{(1-\\phi)}{\\phi}}\\right)}\n",
        "$$\n",
        "<br>\n",
        "\n",
        "$ \\text{ya que }x^T\\Sigma^{-1}\\mu_1=\\mu_1^T\\Sigma^{-1}x$\n",
        "<br>\n",
        "\n",
        "$$\n",
        "= \\frac{1}{1+ \\exp \\left( -\\frac{1}{2} (x^T\\Sigma^{-1}x-2x^T\\Sigma^{-1}\\mu_0+\\mu_0^T\\Sigma^{-1}\\mu_0) +\\frac{1}{2} (x^T\\Sigma^{-1}x-2x^T\\Sigma^{-1}\\mu_1+\\mu_1^T\\Sigma^{-1}\\mu_1) + \\ln{\\frac{(1-\\phi)}{\\phi}}\\right)}\n",
        "$$\n",
        "<br>\n",
        "\n",
        "$$\n",
        "= \\frac{1}{1+ \\exp \\left( \\frac{-x^T\\Sigma^{-1}x}{2}+x^T\\Sigma^{-1}\\mu_0-\\frac{\\mu_0^T\\Sigma^{-1}\\mu_0}{2} +\\frac{-x^T\\Sigma^{-1}x}{2}+x^T\\Sigma^{-1}\\mu_1-\\frac{\\mu_1^T\\Sigma^{-1}\\mu_1}{2} + \\ln{\\frac{(1-\\phi)}{\\phi}}\\right)}\n",
        "$$\n",
        "<br>\n",
        "\n",
        "$$\n",
        "= \\frac{1}{1+ \\exp \\left( x^T\\Sigma^{-1}\\mu_0-\\frac{\\mu_0^T\\Sigma^{-1}\\mu_0}{2} +x^T\\Sigma^{-1}\\mu_1-\\frac{\\mu_1^T\\Sigma^{-1}\\mu_1}{2} + \\ln{\\frac{(1-\\phi)}{\\phi}}\\right)}\n",
        "$$\n",
        "<br>\n",
        "\n",
        "$$\n",
        "\\boxed{= \\frac{1}{1+ \\exp \\left( x^T\\Sigma^{-1}(\\mu_0-\\mu_1)-\\frac{1}{2}\\Sigma^{-1}(\\mu_0-\\mu_1)+\\ln{\\frac{(1-\\phi)}{\\phi}} \\right)}}\n",
        "$$\n",
        "<br>\n",
        "\n",
        "$\\text{con }\\theta=\\Sigma^{-1}(\\mu_1-\\mu_0) \\text{ y con }\\theta_0=\\frac{1}{2}\\Sigma^{-1}(\\mu_0-\\mu_1)-\\ln{\\frac{(1-\\phi)}{\\phi}}$\n",
        "<br>\n",
        "<br>\n",
        "\n",
        "$\\text{se llega a la expresion:}$\n",
        "<br>\n",
        "<br>\n",
        "\n",
        "\n",
        "$$\n",
        "p(y = 1|x; \\phi, \\mu_0, \\mu_1, \\Sigma) = \\frac{1}{1 + \\exp\\left(-(\\theta^T x + \\theta_0)\\right)}\n",
        "$$"
      ]
    },
    {
      "cell_type": "markdown",
      "metadata": {
        "id": "gM85I2g8tV6s"
      },
      "source": [
        "# **1.d**"
      ]
    },
    {
      "cell_type": "markdown",
      "metadata": {
        "id": "c6rELM4ptV6t"
      },
      "source": [
        "$$\n",
        "l(\\phi, \\mu_0, \\mu_1, \\Sigma) = \\prod_{i=1}^m \\ln p\\left(x^{(i)}, y^{(i)}; \\phi, \\mu_0, \\mu_1, \\Sigma\\right)\n",
        "$$\n",
        "<br>\n",
        "\n",
        "$$\n",
        "= \\prod_{i=1}^m \\ln p\\left(x^{(i)} \\,|\\, y^{(i)}; \\phi, \\mu_0, \\mu_1, \\Sigma\\right) p(y^{(i)}; \\phi)\n",
        "$$\n",
        "<br>\n",
        "\n",
        "$$\n",
        "= \\sum_{i=1}^m \\ln p\\left(x^{(i)} \\,|\\, y^{(i)}; \\phi, \\mu_0, \\mu_1, \\Sigma\\right) + \\ln{p(y^{(i)}; \\phi)}\n",
        "$$\n",
        "<br>\n",
        "\n",
        "$$\n",
        "= \\sum_{i=1}^m \\ln \\left[\\frac{1}{(2\\pi)^{n/2}|\\Sigma|^{1/2}}\\exp(-\\frac{1}{2}(x-\\mu_i)^T\\Sigma^{-1}(x-\\mu_i))\\right] + \\ln\\left[\\phi^{y^{(i)}}(1-\\phi)^{1-y^{(i)}}\\right]\n",
        "$$\n",
        "<br>\n",
        "\n",
        "$$\n",
        "= \\sum_{i=1}^m \\ln \\left[\\frac{1}{(2\\pi)^{n/2}|\\Sigma|^{1/2}}\\right]-\\frac{1}{2}(x-\\mu_i)^T\\Sigma^{-1}(x-\\mu_i) + y^{(i)}\\ln{(\\phi)} + (1-y^{(i)})\\ln{(1-\\phi)}\n",
        "$$\n",
        "<br>\n",
        "\n",
        "$$\n",
        "= \\sum_{i=1}^m \\ln{(1)}-\\ln{\\left[(2\\pi)^{n/2}|\\Sigma|^{1/2}\\right]}-\\frac{1}{2}(x-\\mu_i)^T\\Sigma^{-1}(x-\\mu_i) + y^{(i)}\\ln{(\\phi)} + (1-y^{(i)})\\ln{(1-\\phi)}\n",
        "$$\n",
        "<br>\n",
        "\n",
        "$$\n",
        "= \\sum_{i=1}^m -\\ln{\\left[(2\\pi)^{n/2}\\right]}-\\ln{\\left[{|\\Sigma|^{1/2}}\\right]}-\\frac{1}{2}(x-\\mu_i)^T\\Sigma^{-1}(x-\\mu_i) + y^{(i)}\\ln{(\\phi)} + (1-y^{(i)})\\ln{(1-\\phi)}\n",
        "$$\n",
        "<br>\n",
        "\n",
        "$$\n",
        "\\boxed{= \\sum_{i=1}^m -\\frac{n}{2}\\ln{(2\\pi)}-\\frac{1}{2}\\ln{(|\\Sigma|)}-\\frac{1}{2}(x-\\mu_i)^T\\Sigma^{-1}(x-\\mu_i) + y^{(i)}\\ln{(\\phi)} + (1-y^{(i)})\\ln{(1-\\phi)}}\n",
        "$$"
      ]
    },
    {
      "cell_type": "markdown",
      "metadata": {
        "id": "vaNLIYaQtV6t"
      },
      "source": [
        "\n",
        "Ahora debemos derivar parcialmente e igualar a 0 para cada parametro\n",
        "\n",
        "Con respecto a $\\phi$:\n",
        "<br>\n",
        "\n",
        "$$\n",
        "\\frac{\\partial l}{\\partial\\phi}=\\left[y^{(i)}\\ln{(\\phi)} + (1-y^{(i)})\\ln{(1-\\phi)}\\right]'\n",
        "$$\n",
        "<br>\n",
        "\n",
        "$$\n",
        "\\frac{\\partial l}{\\partial\\phi}=\\sum_{i*1}^{m} \\left[ \\frac{y^{(i)}}{\\phi} - \\frac{1-y^{(i)}}{1-\\phi} \\right]\n",
        "$$\n",
        "<br>\n",
        "\n",
        "$$\n",
        "\\frac{\\partial l}{\\partial\\phi}=\\sum_{i*1}^{m} \\left[ \\frac{y^{(i)} \\phi (1-\\phi)}{\\phi} - \\frac{(1-y^{(i)}) \\phi (1-\\phi)}{1-\\phi} \\right]\n",
        "$$\n",
        "<br>\n",
        "\n",
        "$$\n",
        "\\frac{\\partial l}{\\partial\\phi}=\\sum_{i*1}^{m} \\left[ y^{(i)} (1-\\phi) - (1-y^{(i)}) \\phi \\right]\n",
        "$$\n",
        "<br>\n",
        "\n",
        "$$\n",
        "\\frac{\\partial l}{\\partial\\phi}=\\sum_{i*1}^{m} \\left[ y^{(i)} -y^{(i)}\\phi-\\phi+y^{(i)}\\phi\\right]\n",
        "$$\n",
        "<br>\n",
        "\n",
        "$$\n",
        "\\frac{\\partial l}{\\partial\\phi}=\\sum_{i*1}^{m} \\left[ y^{(i)}-\\phi\\right]\n",
        "=\n",
        "\\sum_{i*1}^{m} y^{(i)}-\\sum_{i*1}^{m}\\phi\\\n",
        "$$\n",
        "<br>\n",
        "\n",
        "$$\n",
        "\\frac{\\partial l}{\\partial\\phi}=\\sum_{i*1}^{m} y^{(i)}-\\sum_{i*1}^{m}\\phi\\\n",
        "=\n",
        "\\boxed{\n",
        "\\sum_{i*1}^{m} y^{(i)}-m\\cdot\\phi}\n",
        "$$\n",
        "<br>\n",
        "\n",
        "$$\n",
        "\\sum_{i*1}^{m} y^{(i)}-m\\cdot\\phi = 0\n",
        "$$\n",
        "<br>\n",
        "\n",
        "$$\n",
        "-m\\cdot\\phi = -\\sum_{i*1}^{m}y^{(i)}\n",
        "$$\n",
        "<br>\n",
        "\n",
        "$$\n",
        "\\phi = \\frac{1}{m}\\sum_{i*1}^{m}y^{(i)}\n",
        "=\n",
        "\\boxed{\\frac{1}{m}\\sum_{i*1}^{m}1\\{y=i\\}}\n",
        "$$"
      ]
    },
    {
      "cell_type": "markdown",
      "metadata": {
        "id": "f2hu1cUUtV6u"
      },
      "source": [
        "Con respecto a $\\mu_{y^{(i)}}$:\n",
        "<br>\n",
        "\n",
        "$$\n",
        "\\frac{\\partial l}{\\partial\\mu_i}=\\left[-\\frac{1}{2}\\sum_{i=1}^{m}(x_i-\\mu_{y^{i}})^T\\Sigma^{-1}(x_i-\\mu_{y^{i}})\\right]'\n",
        "$$\n",
        "<br>\n",
        "\n",
        "$$\n",
        "\\frac{\\partial l}{\\partial\\mu_i}=\\left[-\\frac{1}{2}\\sum_{i=1}^{m}(x_i-\\mu_{y^{i}})^T\\Sigma^{-1}(x_i-\\mu_{y^{i}})\\right]'\n",
        "$$\n",
        "<br>\n",
        "\n",
        "aplicando distributiva, y ya que $\\mu_{y^{i}}^T\\cdot\\mu_{y^{i}}=\\mu_{y^{i}}^2$\n",
        "<br>\n",
        "\n",
        "$$\n",
        "\\frac{\\partial l}{\\partial\\mu_{y^{i}}}=\\left[-\\frac{1}{2}\\sum_{i=1}^{m}x_i^T\\Sigma^{-1}x_i-2\\mu_{y^{i}}^T\\Sigma^{-1}x_i+\\Sigma^{-1}\\mu_{y^{i}}^2\\right]'\n",
        "$$\n",
        "<br>\n",
        "\n",
        "$$\n",
        "\\frac{\\partial l}{\\partial\\mu_{y^{i}}}=-\\frac{1}{2}\\sum_{i=1}^{m}-2\\Sigma^{-1}x_i+2\\Sigma^{-1}\\mu_{y^{i}}\n",
        "$$\n",
        "<br>\n",
        "\n",
        "aplicando nuevamente distributiva,\n",
        "<br>\n",
        "\n",
        "$$\n",
        "\\boxed{\\frac{\\partial l}{\\partial\\mu_{y^{i}}}=\\sum_{i=1}^{m}\\Sigma^{-1}x_i-\\sum_{i=1}^{m}\\Sigma^{-1}\\mu_{y^{i}}}\n",
        "$$\n",
        "<br>\n",
        "\n",
        "$$\n",
        "\\sum_{i=1}^{m}\\Sigma^{-1}x_i-\\sum_{i=1}^{m}\\Sigma^{-1}\\mu_{y^{i}}=0\n",
        "$$\n",
        "<br>\n",
        "\n",
        "$$\n",
        "\\sum_{i=1}^{m}1 \\{y=y^{(i)}\\}\\Sigma^{-1}x_i-\\sum_{i=1}^{m}1 \\{y=y^{(i)}\\}\\Sigma^{-1}\\mu_{y^{i}}=0\n",
        "$$\n",
        "<br>\n",
        "\n",
        "$$\n",
        "\\Sigma^{-1}\\sum_{i=1}^{m}1 \\{y=y^{(i)}\\}x_i-\\Sigma^{-1}\\sum_{i=1}^{m}1 \\{y=y^{(i)}\\}\\mu_{y^{i}}=0\n",
        "$$\n",
        "<br>\n",
        "\n",
        "$$\n",
        "\\Sigma^{-1}\\sum_{i=1}^{m}1 \\{y=y^{(i)}\\}x_i=\\Sigma^{-1}\\sum_{i=1}^{m}1 \\{y=y^{(i)}\\}\\mu_{y^{i}}\n",
        "$$\n",
        "<br>\n",
        "\n",
        "$$\n",
        "\\frac{\\Sigma^{-1}\\sum_{i=1}^{m}1 \\{y=y^{(i)}\\}x_i}{\\Sigma^{-1}\\sum_{i=1}^{m}1 \\{y=y^{(i)}\\}}=\\mu_{y^{i}}\n",
        "$$\n",
        "<br>\n",
        "\n",
        "$$\n",
        "\\frac{\\sum_{i=1}^{m}1 \\{y=y^{(i)}\\}x_i}{\\sum_{i=1}^{m}1 \\{y=y^{(i)}\\}}=\\mu_{y^{i}}\n",
        "$$\n",
        "<br>\n",
        "\n",
        "Es decir, nos quedaria de la siguiente manera:\n",
        "<br>\n",
        "\n",
        "$$\n",
        "\\boxed{\n",
        "\\mu_0=\\frac{\\sum_{i=1}^{m}1 \\{y=0\\}x_i}{\\sum_{i=1}^{m}1 \\{y=0\\}}\n",
        "\\text{ y }\n",
        "\\mu_1=\\frac{\\sum_{i=1}^{m}1 \\{y=1\\}x_i}{\\sum_{i=1}^{m}1 \\{y=1\\}}}\n",
        "$$\n"
      ]
    },
    {
      "cell_type": "markdown",
      "metadata": {
        "id": "Sm8BBtOVtV6u"
      },
      "source": [
        "Con respecto a $\\Sigma$:\n",
        "$$\n",
        "\\frac{\\partial l}{\\partial\\Sigma}=\\sum_{i=1}^{m}\\left[-\\frac{1}{2}\\ln|\\Sigma|-\\frac{1}{2}(x_i-\\mu_{y^{i}})^T\\Sigma^{-1}(x_i-\\mu_{y^{i}})\\right]'\n",
        "$$\n",
        "<br>\n",
        "\n",
        "$$\n",
        "\\frac{\\partial l}{\\partial\\Sigma}=-\\frac{1}{2}\\sum_{i=1}^{m}\\left[\\ln|\\Sigma|+(x_i-\\mu_{y^{i}})^T\\Sigma^{-1}(x_i-\\mu_{y^{i}})\\right]'\n",
        "$$\n",
        "#### TERMINAR"
      ]
    },
    {
      "cell_type": "markdown",
      "metadata": {
        "id": "mY8G_5oYtV6v"
      },
      "source": [
        "# **1.g**"
      ]
    },
    {
      "cell_type": "markdown",
      "metadata": {
        "id": "xCHQMPmitV6v"
      },
      "source": [
        "Guiandome por los graficos de GDA y Regresion Logistica de los dataset DS1 y DS2,\n",
        "\n",
        "PROBAR INSERTAR IMAGENES DE GRAFICOS\n",
        "\n",
        "el modelo de Discriminante Gaussiano tiene un peor funcionamiento en el dataset numero 1.\n",
        "Esto es posible que se dé debido a que... TERMINAR"
      ]
    },
    {
      "cell_type": "markdown",
      "metadata": {
        "id": "jdg4w3f5tV6v"
      },
      "source": [
        "# **1.h**"
      ]
    },
    {
      "cell_type": "markdown",
      "metadata": {
        "id": "ZtxzAEahtV6v"
      },
      "source": [
        "Se podria probar normalizando X antes de entrenar."
      ]
    },
    {
      "cell_type": "markdown",
      "source": [
        "# **2.a**"
      ],
      "metadata": {
        "id": "KFpqe-9auv3n"
      }
    },
    {
      "cell_type": "markdown",
      "source": [
        "Demostrar que \n",
        "<br>\n",
        "\n",
        "$$\n",
        "p(t^{(i)}=1|x_i)=p(y^{(i)}=1|x_i)\\cdot \\frac{1}{\\alpha}\n",
        "$$\n",
        "<br>\n",
        "\n",
        "$$\n",
        "\\frac{p(x|t^{(i)}=1)\\cdot p(t^{(i)}=1)}{p(x_i)}=\\frac{p(x|y^{(i)}=1)\\cdot p(y^{(i)}=1)}{p(x_i)}\\cdot \\frac{1}{\\alpha}\n",
        "$$\n",
        "\n",
        "TERMINAR"
      ],
      "metadata": {
        "id": "K9cjpC0Suybx"
      }
    },
    {
      "cell_type": "markdown",
      "source": [
        "# **2.b**"
      ],
      "metadata": {
        "id": "pQtounzq5VKF"
      }
    },
    {
      "cell_type": "markdown",
      "source": [
        "Mostrar que \n",
        "<br>\n",
        "\n",
        "$$\n",
        "h(x_i)\\approx \\alpha \\text{ para todo } x_i \\in V_+\n",
        "$$\n",
        "<br>\n",
        "<br>\n",
        "\n",
        "dado que,\n",
        "<br>\n",
        "<br>\n",
        "\n",
        "$$\n",
        "h(x_i)\\approx p(y^{(i)}=1|x_i)\n",
        "$$\n",
        "<br>\n",
        "\n",
        "$$\n",
        "h(x_i)\\approx p(t^{(i)}=1|x_i)\\cdot \\alpha\n",
        "$$\n",
        "<br>\n",
        "\n",
        "Ya que estamos en $V_+, p(t^{(i)}=1|x_i) = 1$\n",
        "<br>\n",
        "<br>\n",
        "\n",
        "$$\n",
        "h(x_i)\\approx \\alpha\n",
        "$$"
      ],
      "metadata": {
        "id": "RSSrTHM25Xsh"
      }
    },
    {
      "cell_type": "markdown",
      "source": [
        "# **3.a**"
      ],
      "metadata": {
        "id": "TI_TTni77CfU"
      }
    },
    {
      "cell_type": "markdown",
      "source": [
        "Demostrar que la distribucion de Poisson pertenece a la familia de los exponenciales\n",
        "<br>\n",
        "\n",
        "$$\n",
        "p(y;\\lambda)=\\frac{e^{-\\lambda}\\lambda^y}{y!}\n",
        "$$\n",
        "<br>\n",
        "\n",
        "$$\n",
        "p(y;\\lambda)=\\frac{1}{y!}e^{-\\lambda}\\lambda^y\n",
        "=\n",
        "\\frac{1}{y!}e^{-\\lambda+\\ln{\\lambda}^y}\n",
        "$$\n",
        "<br>\n",
        "\n",
        "$$\n",
        "p(y;\\lambda)=\\frac{1}{y!}e^{-\\lambda+y\\ln{\\lambda}}\n",
        "$$\n",
        "<br>\n",
        "\n",
        "$$\n",
        "\\boxed{p(y;\\lambda)=\\frac{1}{y!}e^{\\ln{\\lambda}\\cdot y-\\lambda}}\n",
        "$$\n",
        "<br>\n",
        "\n",
        "Entonces,\n",
        "<br>\n",
        "<br>\n",
        "\n",
        "$$\n",
        "b(y)=\\frac{1}{y!}\n",
        "$$\n",
        "<br>\n",
        "\n",
        "$$\n",
        "T(y)=y\n",
        "$$\n",
        "<br>\n",
        "\n",
        "$$\n",
        "\\eta=ln(\\lambda)\n",
        "$$\n",
        "<br>\n",
        "\n",
        "$$\n",
        "a(\\eta)=\\lambda=e^{\\eta}\n",
        "$$"
      ],
      "metadata": {
        "id": "tR2DxF-f7EFo"
      }
    },
    {
      "cell_type": "markdown",
      "source": [
        "# **3.b**"
      ],
      "metadata": {
        "id": "0p4-iQ169d-U"
      }
    },
    {
      "cell_type": "markdown",
      "source": [
        "Segun la teoria, la funcion de respuesta canónica $g(\\eta)=E[y;\\eta]$,\n",
        "y dado que una variable aleatoria de Poisson con parametro $\\lambda$ tiene esperanza $\\lambda$,\n",
        "<br>\n",
        "\n",
        "$$\n",
        "g(\\eta)=E[y;\\eta]=\\lambda\n",
        "$$\n",
        "<br>\n",
        "\n",
        "$$\n",
        "g(\\eta)=E[y;\\eta]=e^{\\ln{\\lambda}}\n",
        "$$\n",
        "<br>\n",
        "\n",
        "$$\n",
        "\\boxed{g(\\eta)=E[y;\\eta]=e^{\\eta}}\n",
        "$$"
      ],
      "metadata": {
        "id": "jV_Y2vh79iF-"
      }
    },
    {
      "cell_type": "markdown",
      "source": [
        "# **3.c**"
      ],
      "metadata": {
        "id": "ehQYm6DS-R7K"
      }
    },
    {
      "cell_type": "markdown",
      "source": [
        "$$\n",
        "l(\\theta)=\\ln\\left[p(y^{(i)}|x_i;\\theta)\\right]\n",
        "$$\n",
        "<br>\n",
        "\n",
        "$$\n",
        "l(\\theta)=\\ln\\left[\\frac{p(x_i|y^{(i)})\\cdot p(y^{(i)})}{p(x_i)}\\right]\n",
        "$$\n",
        "<br>\n",
        "\n",
        "$$\n",
        "l(\\theta)=\\ln\\left[\\frac{e^{-\\theta^Tx}\\cdot(\\theta^Tx)^y}{y!}\\right]\n",
        "$$\n",
        "\n",
        "TERMINAR"
      ],
      "metadata": {
        "id": "K7vKt6fQ_vnS"
      }
    },
    {
      "cell_type": "markdown",
      "source": [
        "# **4.a**"
      ],
      "metadata": {
        "id": "db8MP5yEEwT-"
      }
    },
    {
      "cell_type": "markdown",
      "source": [],
      "metadata": {
        "id": "MgzBBj0iEypo"
      }
    }
  ],
  "metadata": {
    "language_info": {
      "name": "python"
    },
    "orig_nbformat": 4,
    "colab": {
      "provenance": []
    }
  },
  "nbformat": 4,
  "nbformat_minor": 0
}